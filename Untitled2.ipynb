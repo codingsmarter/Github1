{
  "nbformat": 4,
  "nbformat_minor": 0,
  "metadata": {
    "colab": {
      "provenance": []
    },
    "kernelspec": {
      "name": "python3",
      "display_name": "Python 3"
    },
    "language_info": {
      "name": "python"
    }
  },
  "cells": [
    {
      "cell_type": "code",
      "execution_count": null,
      "metadata": {
        "id": "kLaTV-5XI7bG"
      },
      "outputs": [],
      "source": [
        "from sympy import *\n",
        "\n"
      ]
    },
    {
      "cell_type": "code",
      "source": [
        "# Declare symbolic objects.\n",
        "n , x , y = symbols(\" n x y\")"
      ],
      "metadata": {
        "id": "EH2T-9RVJld2"
      },
      "execution_count": null,
      "outputs": []
    },
    {
      "cell_type": "code",
      "source": [
        "# Factorization.\n",
        "factor(x**2 - y**2)"
      ],
      "metadata": {
        "colab": {
          "base_uri": "https://localhost:8080/",
          "height": 38
        },
        "id": "cJOYpTPBKE-V",
        "outputId": "4b0e193a-526a-427b-dd66-821d30496b86"
      },
      "execution_count": null,
      "outputs": [
        {
          "output_type": "execute_result",
          "data": {
            "text/plain": [
              "(x - y)*(x + y)"
            ],
            "text/latex": "$\\displaystyle \\left(x - y\\right) \\left(x + y\\right)$"
          },
          "metadata": {},
          "execution_count": 6
        }
      ]
    },
    {
      "cell_type": "code",
      "source": [
        "# solve the algebraic quadratic equation x**2-4*x-3=0\n",
        "# Note that you don't put \"=0\" in the command line.\n",
        "solve(x**2-4*x-3 , x)"
      ],
      "metadata": {
        "colab": {
          "base_uri": "https://localhost:8080/"
        },
        "id": "PYHiXjJYL0bE",
        "outputId": "86424877-9317-4d41-f6cb-12807f4daa9d"
      },
      "execution_count": null,
      "outputs": [
        {
          "output_type": "execute_result",
          "data": {
            "text/plain": [
              "[2 - sqrt(7), 2 + sqrt(7)]"
            ]
          },
          "metadata": {},
          "execution_count": 7
        }
      ]
    },
    {
      "cell_type": "code",
      "source": [
        "# solve linear simultaneous equasions.\n",
        "solve([x - y , x + 2 * y - 5] , [x , y])"
      ],
      "metadata": {
        "colab": {
          "base_uri": "https://localhost:8080/"
        },
        "id": "jcbzeVucNd6M",
        "outputId": "4b8a5637-4ab6-4418-a32c-deeac87db70a"
      },
      "execution_count": null,
      "outputs": [
        {
          "output_type": "execute_result",
          "data": {
            "text/plain": [
              "{x: 5/3, y: 5/3}"
            ]
          },
          "metadata": {},
          "execution_count": 8
        }
      ]
    },
    {
      "cell_type": "code",
      "source": [
        "# Partial fractions.\n",
        "apart(1/ ((x + 1) * (x+2)))"
      ],
      "metadata": {
        "colab": {
          "base_uri": "https://localhost:8080/",
          "height": 52
        },
        "id": "2SBz_PT1OXJL",
        "outputId": "8f71ccb3-a829-40e5-f2e2-52d691d4022c"
      },
      "execution_count": null,
      "outputs": [
        {
          "output_type": "execute_result",
          "data": {
            "text/plain": [
              "-1/(x + 2) + 1/(x + 1)"
            ],
            "text/latex": "$\\displaystyle - \\frac{1}{x + 2} + \\frac{1}{x + 1}$"
          },
          "metadata": {},
          "execution_count": 9
        }
      ]
    },
    {
      "cell_type": "code",
      "source": [
        "# Limits: The limit as x->0.\n",
        "limit(x / sin(x) , x , 0)"
      ],
      "metadata": {
        "colab": {
          "base_uri": "https://localhost:8080/",
          "height": 37
        },
        "id": "RyB_MwHfQAvr",
        "outputId": "0619c225-95be-4332-9e3b-c0de131fed6b"
      },
      "execution_count": null,
      "outputs": [
        {
          "output_type": "execute_result",
          "data": {
            "text/plain": [
              "1"
            ],
            "text/latex": "$\\displaystyle 1$"
          },
          "metadata": {},
          "execution_count": 10
        }
      ]
    },
    {
      "cell_type": "code",
      "source": [
        "# Differentation.\n",
        "diff( x**8 - 7 * x + 8 , x)"
      ],
      "metadata": {
        "colab": {
          "base_uri": "https://localhost:8080/",
          "height": 38
        },
        "id": "cZkOkI-GQvDY",
        "outputId": "6b017bb1-1ffc-4edb-89ee-43c2e06f8230"
      },
      "execution_count": null,
      "outputs": [
        {
          "output_type": "execute_result",
          "data": {
            "text/plain": [
              "8*x**7 - 7"
            ],
            "text/latex": "$\\displaystyle 8 x^{7} - 7$"
          },
          "metadata": {},
          "execution_count": 11
        }
      ]
    },
    {
      "cell_type": "code",
      "source": [
        "# Indefinite integration.\n",
        "print(integrate(x**4) ,\"x c\")"
      ],
      "metadata": {
        "colab": {
          "base_uri": "https://localhost:8080/"
        },
        "id": "8n3tshSURwhj",
        "outputId": "2b735b44-036e-4dd7-9075-7f0d1e986ea5"
      },
      "execution_count": null,
      "outputs": [
        {
          "output_type": "stream",
          "name": "stdout",
          "text": [
            "x**5/5 x c\n"
          ]
        }
      ]
    }
  ]
}